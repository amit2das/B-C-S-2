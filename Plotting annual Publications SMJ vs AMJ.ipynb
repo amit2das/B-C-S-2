{
 "cells": [
  {
   "cell_type": "code",
   "execution_count": 33,
   "metadata": {},
   "outputs": [],
   "source": [
    "import pandas as  pd"
   ]
  },
  {
   "cell_type": "code",
   "execution_count": 34,
   "metadata": {},
   "outputs": [
    {
     "name": "stdout",
     "output_type": "stream",
     "text": [
      "(2583, 69)\n"
     ]
    },
    {
     "data": {
      "text/html": [
       "<div>\n",
       "<style scoped>\n",
       "    .dataframe tbody tr th:only-of-type {\n",
       "        vertical-align: middle;\n",
       "    }\n",
       "\n",
       "    .dataframe tbody tr th {\n",
       "        vertical-align: top;\n",
       "    }\n",
       "\n",
       "    .dataframe thead th {\n",
       "        text-align: right;\n",
       "    }\n",
       "</style>\n",
       "<table border=\"1\" class=\"dataframe\">\n",
       "  <thead>\n",
       "    <tr style=\"text-align: right;\">\n",
       "      <th></th>\n",
       "      <th>Unnamed: 0</th>\n",
       "      <th>Publication Type</th>\n",
       "      <th>Authors</th>\n",
       "      <th>Book Authors</th>\n",
       "      <th>Book Editors</th>\n",
       "      <th>Book Group Authors</th>\n",
       "      <th>Author Full Names</th>\n",
       "      <th>Book Author Full Names</th>\n",
       "      <th>Group Authors</th>\n",
       "      <th>Article Title</th>\n",
       "      <th>...</th>\n",
       "      <th>WoS Categories</th>\n",
       "      <th>Research Areas</th>\n",
       "      <th>IDS Number</th>\n",
       "      <th>UT (Unique WOS ID)</th>\n",
       "      <th>Pubmed Id</th>\n",
       "      <th>Open Access Designations</th>\n",
       "      <th>Highly Cited Status</th>\n",
       "      <th>Hot Paper Status</th>\n",
       "      <th>Date of Export</th>\n",
       "      <th>...68</th>\n",
       "    </tr>\n",
       "  </thead>\n",
       "  <tbody>\n",
       "    <tr>\n",
       "      <th>0</th>\n",
       "      <td>1</td>\n",
       "      <td>J</td>\n",
       "      <td>Martignoni, D; Menon, A; Siggelkow, N</td>\n",
       "      <td>NaN</td>\n",
       "      <td>NaN</td>\n",
       "      <td>NaN</td>\n",
       "      <td>Martignoni, Dirk; Menon, Anoop; Siggelkow, Nic...</td>\n",
       "      <td>NaN</td>\n",
       "      <td>NaN</td>\n",
       "      <td>Consequences of misspecified mental models: Co...</td>\n",
       "      <td>...</td>\n",
       "      <td>NaN</td>\n",
       "      <td>NaN</td>\n",
       "      <td>NaN</td>\n",
       "      <td>WOS:000388288600012</td>\n",
       "      <td>NaN</td>\n",
       "      <td>NaN</td>\n",
       "      <td>NaN</td>\n",
       "      <td>NaN</td>\n",
       "      <td>NaN</td>\n",
       "      <td>NaN</td>\n",
       "    </tr>\n",
       "    <tr>\n",
       "      <th>1</th>\n",
       "      <td>2</td>\n",
       "      <td>J</td>\n",
       "      <td>Adegbesan, A; Mitchell, W; Wahler, B</td>\n",
       "      <td>NaN</td>\n",
       "      <td>NaN</td>\n",
       "      <td>NaN</td>\n",
       "      <td>Adegbesan, Adetunji; Mitchell, Will; Wahler, B...</td>\n",
       "      <td>NaN</td>\n",
       "      <td>NaN</td>\n",
       "      <td>Guidelines for effective strategy in African m...</td>\n",
       "      <td>...</td>\n",
       "      <td>NaN</td>\n",
       "      <td>NaN</td>\n",
       "      <td>NaN</td>\n",
       "      <td>WOS:000388288600009</td>\n",
       "      <td>NaN</td>\n",
       "      <td>NaN</td>\n",
       "      <td>NaN</td>\n",
       "      <td>NaN</td>\n",
       "      <td>NaN</td>\n",
       "      <td>NaN</td>\n",
       "    </tr>\n",
       "    <tr>\n",
       "      <th>2</th>\n",
       "      <td>3</td>\n",
       "      <td>J</td>\n",
       "      <td>Ramamurti, R</td>\n",
       "      <td>NaN</td>\n",
       "      <td>NaN</td>\n",
       "      <td>NaN</td>\n",
       "      <td>Ramamurti, Ravi</td>\n",
       "      <td>NaN</td>\n",
       "      <td>NaN</td>\n",
       "      <td>Internationalization and innovation in emergin...</td>\n",
       "      <td>...</td>\n",
       "      <td>NaN</td>\n",
       "      <td>NaN</td>\n",
       "      <td>NaN</td>\n",
       "      <td>WOS:000388288600011</td>\n",
       "      <td>NaN</td>\n",
       "      <td>NaN</td>\n",
       "      <td>NaN</td>\n",
       "      <td>NaN</td>\n",
       "      <td>NaN</td>\n",
       "      <td>NaN</td>\n",
       "    </tr>\n",
       "    <tr>\n",
       "      <th>3</th>\n",
       "      <td>4</td>\n",
       "      <td>J</td>\n",
       "      <td>Reuer, JJ; Arino, A; Poppo, L; Zenger, T</td>\n",
       "      <td>NaN</td>\n",
       "      <td>NaN</td>\n",
       "      <td>NaN</td>\n",
       "      <td>Reuer, Jeffrey J.; Arino, Africa; Poppo, Laura...</td>\n",
       "      <td>NaN</td>\n",
       "      <td>NaN</td>\n",
       "      <td>Alliance governance</td>\n",
       "      <td>...</td>\n",
       "      <td>NaN</td>\n",
       "      <td>NaN</td>\n",
       "      <td>NaN</td>\n",
       "      <td>WOS:000388288600006</td>\n",
       "      <td>NaN</td>\n",
       "      <td>NaN</td>\n",
       "      <td>NaN</td>\n",
       "      <td>NaN</td>\n",
       "      <td>NaN</td>\n",
       "      <td>NaN</td>\n",
       "    </tr>\n",
       "    <tr>\n",
       "      <th>4</th>\n",
       "      <td>5</td>\n",
       "      <td>J</td>\n",
       "      <td>Brahm, F; Tarzijan, J</td>\n",
       "      <td>NaN</td>\n",
       "      <td>NaN</td>\n",
       "      <td>NaN</td>\n",
       "      <td>Brahm, Francisco; Tarzijan, Jorge</td>\n",
       "      <td>NaN</td>\n",
       "      <td>NaN</td>\n",
       "      <td>TOWARD AN INTEGRATED THEORY OF THE FIRM: THE I...</td>\n",
       "      <td>...</td>\n",
       "      <td>NaN</td>\n",
       "      <td>NaN</td>\n",
       "      <td>NaN</td>\n",
       "      <td>WOS:000388290800006</td>\n",
       "      <td>NaN</td>\n",
       "      <td>NaN</td>\n",
       "      <td>NaN</td>\n",
       "      <td>NaN</td>\n",
       "      <td>NaN</td>\n",
       "      <td>NaN</td>\n",
       "    </tr>\n",
       "  </tbody>\n",
       "</table>\n",
       "<p>5 rows × 69 columns</p>\n",
       "</div>"
      ],
      "text/plain": [
       "   Unnamed: 0 Publication Type                                   Authors  \\\n",
       "0           1                J     Martignoni, D; Menon, A; Siggelkow, N   \n",
       "1           2                J      Adegbesan, A; Mitchell, W; Wahler, B   \n",
       "2           3                J                              Ramamurti, R   \n",
       "3           4                J  Reuer, JJ; Arino, A; Poppo, L; Zenger, T   \n",
       "4           5                J                     Brahm, F; Tarzijan, J   \n",
       "\n",
       "   Book Authors  Book Editors  Book Group Authors  \\\n",
       "0           NaN           NaN                 NaN   \n",
       "1           NaN           NaN                 NaN   \n",
       "2           NaN           NaN                 NaN   \n",
       "3           NaN           NaN                 NaN   \n",
       "4           NaN           NaN                 NaN   \n",
       "\n",
       "                                   Author Full Names  Book Author Full Names  \\\n",
       "0  Martignoni, Dirk; Menon, Anoop; Siggelkow, Nic...                     NaN   \n",
       "1  Adegbesan, Adetunji; Mitchell, Will; Wahler, B...                     NaN   \n",
       "2                                    Ramamurti, Ravi                     NaN   \n",
       "3  Reuer, Jeffrey J.; Arino, Africa; Poppo, Laura...                     NaN   \n",
       "4                  Brahm, Francisco; Tarzijan, Jorge                     NaN   \n",
       "\n",
       "   Group Authors                                      Article Title  ...   \\\n",
       "0            NaN  Consequences of misspecified mental models: Co...  ...    \n",
       "1            NaN  Guidelines for effective strategy in African m...  ...    \n",
       "2            NaN  Internationalization and innovation in emergin...  ...    \n",
       "3            NaN                                Alliance governance  ...    \n",
       "4            NaN  TOWARD AN INTEGRATED THEORY OF THE FIRM: THE I...  ...    \n",
       "\n",
       "  WoS Categories  Research Areas  IDS Number   UT (Unique WOS ID)  Pubmed Id  \\\n",
       "0            NaN             NaN         NaN  WOS:000388288600012        NaN   \n",
       "1            NaN             NaN         NaN  WOS:000388288600009        NaN   \n",
       "2            NaN             NaN         NaN  WOS:000388288600011        NaN   \n",
       "3            NaN             NaN         NaN  WOS:000388288600006        NaN   \n",
       "4            NaN             NaN         NaN  WOS:000388290800006        NaN   \n",
       "\n",
       "  Open Access Designations Highly Cited Status Hot Paper Status  \\\n",
       "0                      NaN                 NaN              NaN   \n",
       "1                      NaN                 NaN              NaN   \n",
       "2                      NaN                 NaN              NaN   \n",
       "3                      NaN                 NaN              NaN   \n",
       "4                      NaN                 NaN              NaN   \n",
       "\n",
       "  Date of Export ...68  \n",
       "0            NaN   NaN  \n",
       "1            NaN   NaN  \n",
       "2            NaN   NaN  \n",
       "3            NaN   NaN  \n",
       "4            NaN   NaN  \n",
       "\n",
       "[5 rows x 69 columns]"
      ]
     },
     "execution_count": 34,
     "metadata": {},
     "output_type": "execute_result"
    }
   ],
   "source": [
    "df = pd.read_csv(\"savedrecsAll.csv\") #importing input data\n",
    "\n",
    "print(df.shape)\n",
    "df.head()"
   ]
  },
  {
   "cell_type": "code",
   "execution_count": 35,
   "metadata": {},
   "outputs": [],
   "source": [
    "df = df[df['Publication Year'].notna()]  #delete the rows whose year value is null"
   ]
  },
  {
   "cell_type": "code",
   "execution_count": 36,
   "metadata": {},
   "outputs": [
    {
     "name": "stdout",
     "output_type": "stream",
     "text": [
      "(2536, 69)\n"
     ]
    }
   ],
   "source": [
    "print(df.shape) # 47 null year discarded"
   ]
  },
  {
   "cell_type": "code",
   "execution_count": 37,
   "metadata": {},
   "outputs": [],
   "source": [
    "from collections import Counter"
   ]
  },
  {
   "cell_type": "code",
   "execution_count": 38,
   "metadata": {},
   "outputs": [],
   "source": [
    "a = dict(Counter(df['Publication Year']))  "
   ]
  },
  {
   "cell_type": "code",
   "execution_count": 39,
   "metadata": {},
   "outputs": [
    {
     "name": "stdout",
     "output_type": "stream",
     "text": [
      "{2016.0: 153, 2015.0: 116, 2014.0: 113, 2013.0: 78, 2012.0: 68, 2011.0: 73, 2010.0: 74, 2009.0: 52, 2008.0: 57, 2007.0: 52, 2006.0: 58, 2005.0: 57, 2004.0: 57, 2003.0: 77, 2002.0: 66, 2001.0: 54, 2000.0: 64, 1999.0: 53, 1998.0: 58, 1997.0: 61, 1996.0: 62, 1995.0: 37, 1994.0: 48, 1993.0: 51, 1992.0: 52, 1991.0: 49, 1990.0: 44, 1989.0: 42, 1988.0: 51, 1987.0: 36, 1986.0: 32, 1985.0: 20, 1984.0: 24, 1983.0: 24, 1982.0: 23, 1981.0: 23, 1980.0: 24, 2021.0: 9, 2020.0: 91, 2019.0: 89, 2018.0: 132, 2017.0: 132}\n"
     ]
    }
   ],
   "source": [
    "print (a)"
   ]
  },
  {
   "cell_type": "code",
   "execution_count": 40,
   "metadata": {},
   "outputs": [],
   "source": [
    "import numpy as np\n",
    "arr = np.array(a)"
   ]
  },
  {
   "cell_type": "code",
   "execution_count": 41,
   "metadata": {},
   "outputs": [],
   "source": [
    "print(a, file=open(\"output.txt\", \"a\"))"
   ]
  },
  {
   "cell_type": "code",
   "execution_count": 42,
   "metadata": {},
   "outputs": [
    {
     "name": "stdout",
     "output_type": "stream",
     "text": [
      "             0             1             2            3            4   \\\n",
      "0  {2016.0: 153   2015.0: 116   2014.0: 113   2013.0: 78   2012.0: 68   \n",
      "1  {2016.0: 153   2015.0: 116   2014.0: 113   2013.0: 78   2012.0: 68   \n",
      "2  {2016.0: 153   2015.0: 116   2014.0: 113   2013.0: 78   2012.0: 68   \n",
      "3  {2016.0: 153   2015.0: 116   2014.0: 113   2013.0: 78   2012.0: 68   \n",
      "\n",
      "            5            6            7            8            9   \\\n",
      "0   2011.0: 73   2010.0: 74   2009.0: 52   2008.0: 57   2007.0: 52   \n",
      "1   2011.0: 73   2010.0: 74   2009.0: 52   2008.0: 57   2007.0: 52   \n",
      "2   2011.0: 73   2010.0: 74   2009.0: 52   2008.0: 57   2007.0: 52   \n",
      "3   2011.0: 73   2010.0: 74   2009.0: 52   2008.0: 57   2007.0: 52   \n",
      "\n",
      "       ...                 32           33           34           35  \\\n",
      "0      ...         1984.0: 24   1983.0: 24   1982.0: 23   1981.0: 23   \n",
      "1      ...         1984.0: 24   1983.0: 24   1982.0: 23   1981.0: 23   \n",
      "2      ...         1984.0: 24   1983.0: 24   1982.0: 23   1981.0: 23   \n",
      "3      ...         1984.0: 24   1983.0: 24   1982.0: 23   1981.0: 23   \n",
      "\n",
      "            36          37           38           39            40  \\\n",
      "0   1980.0: 24   2021.0: 9   2020.0: 91   2019.0: 89   2018.0: 132   \n",
      "1   1980.0: 24   2021.0: 9   2020.0: 91   2019.0: 89   2018.0: 132   \n",
      "2   1980.0: 24   2021.0: 9   2020.0: 91   2019.0: 89   2018.0: 132   \n",
      "3   1980.0: 24   2021.0: 9   2020.0: 91   2019.0: 89   2018.0: 132   \n",
      "\n",
      "              41  \n",
      "0   2017.0: 132}  \n",
      "1   2017.0: 132}  \n",
      "2   2017.0: 132}  \n",
      "3   2017.0: 132}  \n",
      "\n",
      "[4 rows x 42 columns]\n"
     ]
    }
   ],
   "source": [
    "data = pd.read_csv('output.txt', header = None)\n",
    "\n",
    "print (data)"
   ]
  },
  {
   "cell_type": "markdown",
   "metadata": {},
   "source": [
    "## I am not able to clean the output file in Python \n",
    " \n",
    "### I have cleaned this file manually in excel and save it in totalPub.csv \n"
   ]
  },
  {
   "cell_type": "code",
   "execution_count": 43,
   "metadata": {},
   "outputs": [],
   "source": [
    "df = pd.read_csv('totalPub.csv')"
   ]
  },
  {
   "cell_type": "code",
   "execution_count": null,
   "metadata": {},
   "outputs": [],
   "source": []
  },
  {
   "cell_type": "code",
   "execution_count": 44,
   "metadata": {},
   "outputs": [
    {
     "data": {
      "text/html": [
       "<div>\n",
       "<style scoped>\n",
       "    .dataframe tbody tr th:only-of-type {\n",
       "        vertical-align: middle;\n",
       "    }\n",
       "\n",
       "    .dataframe tbody tr th {\n",
       "        vertical-align: top;\n",
       "    }\n",
       "\n",
       "    .dataframe thead th {\n",
       "        text-align: right;\n",
       "    }\n",
       "</style>\n",
       "<table border=\"1\" class=\"dataframe\">\n",
       "  <thead>\n",
       "    <tr style=\"text-align: right;\">\n",
       "      <th></th>\n",
       "      <th>Year</th>\n",
       "      <th>Total Publications</th>\n",
       "      <th>Avg Author</th>\n",
       "      <th>Avg Rounded Author Per Year</th>\n",
       "    </tr>\n",
       "  </thead>\n",
       "  <tbody>\n",
       "    <tr>\n",
       "      <th>0</th>\n",
       "      <td>1980</td>\n",
       "      <td>24</td>\n",
       "      <td>1.67</td>\n",
       "      <td>2</td>\n",
       "    </tr>\n",
       "    <tr>\n",
       "      <th>1</th>\n",
       "      <td>1981</td>\n",
       "      <td>23</td>\n",
       "      <td>1.52</td>\n",
       "      <td>2</td>\n",
       "    </tr>\n",
       "    <tr>\n",
       "      <th>2</th>\n",
       "      <td>1982</td>\n",
       "      <td>23</td>\n",
       "      <td>1.48</td>\n",
       "      <td>1</td>\n",
       "    </tr>\n",
       "    <tr>\n",
       "      <th>3</th>\n",
       "      <td>1983</td>\n",
       "      <td>24</td>\n",
       "      <td>1.50</td>\n",
       "      <td>2</td>\n",
       "    </tr>\n",
       "    <tr>\n",
       "      <th>4</th>\n",
       "      <td>1984</td>\n",
       "      <td>24</td>\n",
       "      <td>1.42</td>\n",
       "      <td>1</td>\n",
       "    </tr>\n",
       "  </tbody>\n",
       "</table>\n",
       "</div>"
      ],
      "text/plain": [
       "   Year  Total Publications  Avg Author  Avg Rounded Author Per Year\n",
       "0  1980                  24        1.67                            2\n",
       "1  1981                  23        1.52                            2\n",
       "2  1982                  23        1.48                            1\n",
       "3  1983                  24        1.50                            2\n",
       "4  1984                  24        1.42                            1"
      ]
     },
     "execution_count": 44,
     "metadata": {},
     "output_type": "execute_result"
    }
   ],
   "source": [
    "df.head()"
   ]
  },
  {
   "cell_type": "code",
   "execution_count": 45,
   "metadata": {},
   "outputs": [],
   "source": [
    "import matplotlib.pyplot as plt"
   ]
  },
  {
   "cell_type": "code",
   "execution_count": 69,
   "metadata": {
    "scrolled": true
   },
   "outputs": [
    {
     "data": {
      "image/png": "[encoded data removed]",
      "text/plain": [
       "<Figure size 792x576 with 1 Axes>"
      ]
     },
     "metadata": {
      "needs_background": "light"
     },
     "output_type": "display_data"
    }
   ],
   "source": [
    "plt.figure(figsize=(11,8))\n",
    "\n",
    "plt.bar(df['Year'], df['Total Publications'])\n",
    "plt.grid()"
   ]
  },
  {
   "cell_type": "code",
   "execution_count": 65,
   "metadata": {},
   "outputs": [],
   "source": [
    "# In 2017 highest number of papers ar published\n"
   ]
  },
  {
   "cell_type": "markdown",
   "metadata": {},
   "source": [
    "# AMJ Per Year Publiction Paper Count"
   ]
  },
  {
   "cell_type": "code",
   "execution_count": 17,
   "metadata": {},
   "outputs": [
    {
     "name": "stdout",
     "output_type": "stream",
     "text": [
      "(3703, 69)\n"
     ]
    },
    {
     "data": {
      "text/html": [
       "<div>\n",
       "<style scoped>\n",
       "    .dataframe tbody tr th:only-of-type {\n",
       "        vertical-align: middle;\n",
       "    }\n",
       "\n",
       "    .dataframe tbody tr th {\n",
       "        vertical-align: top;\n",
       "    }\n",
       "\n",
       "    .dataframe thead th {\n",
       "        text-align: right;\n",
       "    }\n",
       "</style>\n",
       "<table border=\"1\" class=\"dataframe\">\n",
       "  <thead>\n",
       "    <tr style=\"text-align: right;\">\n",
       "      <th></th>\n",
       "      <th>Unnamed: 0</th>\n",
       "      <th>Publication Type</th>\n",
       "      <th>Authors</th>\n",
       "      <th>Book Authors</th>\n",
       "      <th>Book Editors</th>\n",
       "      <th>Book Group Authors</th>\n",
       "      <th>Author Full Names</th>\n",
       "      <th>Book Author Full Names</th>\n",
       "      <th>Group Authors</th>\n",
       "      <th>Article Title</th>\n",
       "      <th>...</th>\n",
       "      <th>WoS Categories</th>\n",
       "      <th>Research Areas</th>\n",
       "      <th>IDS Number</th>\n",
       "      <th>UT (Unique WOS ID)</th>\n",
       "      <th>Pubmed Id</th>\n",
       "      <th>Open Access Designations</th>\n",
       "      <th>Highly Cited Status</th>\n",
       "      <th>Hot Paper Status</th>\n",
       "      <th>Date of Export</th>\n",
       "      <th>...68</th>\n",
       "    </tr>\n",
       "  </thead>\n",
       "  <tbody>\n",
       "    <tr>\n",
       "      <th>0</th>\n",
       "      <td>1</td>\n",
       "      <td>J</td>\n",
       "      <td>JAROS, SJ; JERMIER, JM; KOEHLER, JW; SINCICH, T</td>\n",
       "      <td>NaN</td>\n",
       "      <td>NaN</td>\n",
       "      <td>NaN</td>\n",
       "      <td>JAROS, SJ; JERMIER, JM; KOEHLER, JW; SINCICH, T</td>\n",
       "      <td>NaN</td>\n",
       "      <td>NaN</td>\n",
       "      <td>EFFECTS OF CONTINUANCE, AFFECTIVE, AND MORAL C...</td>\n",
       "      <td>...</td>\n",
       "      <td>NaN</td>\n",
       "      <td>NaN</td>\n",
       "      <td>NaN</td>\n",
       "      <td>WOS:A1993MA36000002</td>\n",
       "      <td>NaN</td>\n",
       "      <td>NaN</td>\n",
       "      <td>NaN</td>\n",
       "      <td>NaN</td>\n",
       "      <td>NaN</td>\n",
       "      <td>NaN</td>\n",
       "    </tr>\n",
       "    <tr>\n",
       "      <th>1</th>\n",
       "      <td>2</td>\n",
       "      <td>J</td>\n",
       "      <td>WIERSEMA, MF; BIRD, A</td>\n",
       "      <td>NaN</td>\n",
       "      <td>NaN</td>\n",
       "      <td>NaN</td>\n",
       "      <td>WIERSEMA, MF; BIRD, A</td>\n",
       "      <td>NaN</td>\n",
       "      <td>NaN</td>\n",
       "      <td>ORGANIZATIONAL DEMOGRAPHY IN JAPANESE FIRMS - ...</td>\n",
       "      <td>...</td>\n",
       "      <td>NaN</td>\n",
       "      <td>NaN</td>\n",
       "      <td>NaN</td>\n",
       "      <td>WOS:A1993MA36000003</td>\n",
       "      <td>NaN</td>\n",
       "      <td>NaN</td>\n",
       "      <td>NaN</td>\n",
       "      <td>NaN</td>\n",
       "      <td>NaN</td>\n",
       "      <td>NaN</td>\n",
       "    </tr>\n",
       "    <tr>\n",
       "      <th>2</th>\n",
       "      <td>3</td>\n",
       "      <td>J</td>\n",
       "      <td>HARRISON, JS; HALL, EH; NARGUNDKAR, R</td>\n",
       "      <td>NaN</td>\n",
       "      <td>NaN</td>\n",
       "      <td>NaN</td>\n",
       "      <td>HARRISON, JS; HALL, EH; NARGUNDKAR, R</td>\n",
       "      <td>NaN</td>\n",
       "      <td>NaN</td>\n",
       "      <td>RESOURCE-ALLOCATION AS AN OUTCROPPING OF STRAT...</td>\n",
       "      <td>...</td>\n",
       "      <td>NaN</td>\n",
       "      <td>NaN</td>\n",
       "      <td>NaN</td>\n",
       "      <td>WOS:A1993MA36000004</td>\n",
       "      <td>NaN</td>\n",
       "      <td>NaN</td>\n",
       "      <td>NaN</td>\n",
       "      <td>NaN</td>\n",
       "      <td>NaN</td>\n",
       "      <td>NaN</td>\n",
       "    </tr>\n",
       "    <tr>\n",
       "      <th>3</th>\n",
       "      <td>4</td>\n",
       "      <td>J</td>\n",
       "      <td>GREENWOOD, R; HININGS, CR</td>\n",
       "      <td>NaN</td>\n",
       "      <td>NaN</td>\n",
       "      <td>NaN</td>\n",
       "      <td>GREENWOOD, R; HININGS, CR</td>\n",
       "      <td>NaN</td>\n",
       "      <td>NaN</td>\n",
       "      <td>UNDERSTANDING STRATEGIC CHANGE - THE CONTRIBUT...</td>\n",
       "      <td>...</td>\n",
       "      <td>NaN</td>\n",
       "      <td>NaN</td>\n",
       "      <td>NaN</td>\n",
       "      <td>WOS:A1993MA36000005</td>\n",
       "      <td>NaN</td>\n",
       "      <td>NaN</td>\n",
       "      <td>NaN</td>\n",
       "      <td>NaN</td>\n",
       "      <td>NaN</td>\n",
       "      <td>NaN</td>\n",
       "    </tr>\n",
       "    <tr>\n",
       "      <th>4</th>\n",
       "      <td>5</td>\n",
       "      <td>J</td>\n",
       "      <td>PEARCE, JL</td>\n",
       "      <td>NaN</td>\n",
       "      <td>NaN</td>\n",
       "      <td>NaN</td>\n",
       "      <td>PEARCE, JL</td>\n",
       "      <td>NaN</td>\n",
       "      <td>NaN</td>\n",
       "      <td>TOWARD AN ORGANIZATIONAL-BEHAVIOR OF CONTRACT ...</td>\n",
       "      <td>...</td>\n",
       "      <td>NaN</td>\n",
       "      <td>NaN</td>\n",
       "      <td>NaN</td>\n",
       "      <td>WOS:A1993MA36000006</td>\n",
       "      <td>NaN</td>\n",
       "      <td>NaN</td>\n",
       "      <td>NaN</td>\n",
       "      <td>NaN</td>\n",
       "      <td>NaN</td>\n",
       "      <td>NaN</td>\n",
       "    </tr>\n",
       "  </tbody>\n",
       "</table>\n",
       "<p>5 rows × 69 columns</p>\n",
       "</div>"
      ],
      "text/plain": [
       "   Unnamed: 0 Publication Type  \\\n",
       "0           1                J   \n",
       "1           2                J   \n",
       "2           3                J   \n",
       "3           4                J   \n",
       "4           5                J   \n",
       "\n",
       "                                           Authors  Book Authors  \\\n",
       "0  JAROS, SJ; JERMIER, JM; KOEHLER, JW; SINCICH, T           NaN   \n",
       "1                            WIERSEMA, MF; BIRD, A           NaN   \n",
       "2            HARRISON, JS; HALL, EH; NARGUNDKAR, R           NaN   \n",
       "3                        GREENWOOD, R; HININGS, CR           NaN   \n",
       "4                                       PEARCE, JL           NaN   \n",
       "\n",
       "   Book Editors  Book Group Authors  \\\n",
       "0           NaN                 NaN   \n",
       "1           NaN                 NaN   \n",
       "2           NaN                 NaN   \n",
       "3           NaN                 NaN   \n",
       "4           NaN                 NaN   \n",
       "\n",
       "                                 Author Full Names  Book Author Full Names  \\\n",
       "0  JAROS, SJ; JERMIER, JM; KOEHLER, JW; SINCICH, T                     NaN   \n",
       "1                            WIERSEMA, MF; BIRD, A                     NaN   \n",
       "2            HARRISON, JS; HALL, EH; NARGUNDKAR, R                     NaN   \n",
       "3                        GREENWOOD, R; HININGS, CR                     NaN   \n",
       "4                                       PEARCE, JL                     NaN   \n",
       "\n",
       "   Group Authors                                      Article Title  ...   \\\n",
       "0            NaN  EFFECTS OF CONTINUANCE, AFFECTIVE, AND MORAL C...  ...    \n",
       "1            NaN  ORGANIZATIONAL DEMOGRAPHY IN JAPANESE FIRMS - ...  ...    \n",
       "2            NaN  RESOURCE-ALLOCATION AS AN OUTCROPPING OF STRAT...  ...    \n",
       "3            NaN  UNDERSTANDING STRATEGIC CHANGE - THE CONTRIBUT...  ...    \n",
       "4            NaN  TOWARD AN ORGANIZATIONAL-BEHAVIOR OF CONTRACT ...  ...    \n",
       "\n",
       "  WoS Categories  Research Areas  IDS Number   UT (Unique WOS ID) Pubmed Id  \\\n",
       "0            NaN             NaN         NaN  WOS:A1993MA36000002       NaN   \n",
       "1            NaN             NaN         NaN  WOS:A1993MA36000003       NaN   \n",
       "2            NaN             NaN         NaN  WOS:A1993MA36000004       NaN   \n",
       "3            NaN             NaN         NaN  WOS:A1993MA36000005       NaN   \n",
       "4            NaN             NaN         NaN  WOS:A1993MA36000006       NaN   \n",
       "\n",
       "  Open Access Designations Highly Cited Status Hot Paper Status  \\\n",
       "0                      NaN                 NaN              NaN   \n",
       "1                      NaN                 NaN              NaN   \n",
       "2                      NaN                 NaN              NaN   \n",
       "3                      NaN                 NaN              NaN   \n",
       "4                      NaN                 NaN              NaN   \n",
       "\n",
       "  Date of Export ...68  \n",
       "0            NaN   NaN  \n",
       "1            NaN   NaN  \n",
       "2            NaN   NaN  \n",
       "3            NaN   NaN  \n",
       "4            NaN   NaN  \n",
       "\n",
       "[5 rows x 69 columns]"
      ]
     },
     "execution_count": 17,
     "metadata": {},
     "output_type": "execute_result"
    }
   ],
   "source": [
    "data = pd.read_csv(\"AMJpapers.csv\") #importing input data\n",
    "\n",
    "print(data.shape)\n",
    "data.head()"
   ]
  },
  {
   "cell_type": "code",
   "execution_count": 18,
   "metadata": {},
   "outputs": [],
   "source": [
    "data = data[data['Publication Year'].notna()]  #delete the rows whose year value is null"
   ]
  },
  {
   "cell_type": "code",
   "execution_count": 19,
   "metadata": {},
   "outputs": [
    {
     "name": "stdout",
     "output_type": "stream",
     "text": [
      "(3703, 69)\n"
     ]
    }
   ],
   "source": [
    "print(df.shape) # 47 null year discarded"
   ]
  },
  {
   "cell_type": "code",
   "execution_count": 20,
   "metadata": {},
   "outputs": [],
   "source": [
    "from collections import Counter"
   ]
  },
  {
   "cell_type": "code",
   "execution_count": 24,
   "metadata": {},
   "outputs": [],
   "source": [
    "YearCount = dict(Counter(data['Publication Year']))  "
   ]
  },
  {
   "cell_type": "code",
   "execution_count": 25,
   "metadata": {},
   "outputs": [
    {
     "name": "stdout",
     "output_type": "stream",
     "text": [
      "{1993: 67, 1992: 47, 1991: 46, 1990: 39, 1989: 40, 1988: 48, 1987: 48, 1986: 51, 1985: 65, 1984: 60, 1983: 61, 1982: 64, 1981: 62, 1980: 57, 1979: 57, 1978: 62, 1977: 57, 1976: 60, 1975: 84, 1974: 73, 1973: 69, 1972: 51, 1971: 57, 1970: 44, 1969: 74, 1968: 59, 1967: 38, 1966: 28, 1965: 29, 1964: 26, 1963: 26, 1962: 22, 1961: 24, 1958: 27, 2020: 75, 2019: 76, 2018: 93, 2017: 95, 2016: 95, 2015: 79, 2014: 78, 2013: 80, 2012: 66, 2011: 64, 2010: 70, 2009: 64, 2008: 61, 2007: 93, 2006: 77, 2005: 82, 2004: 60, 2003: 54, 2002: 76, 2001: 82, 2000: 79, 1999: 47, 1998: 49, 1997: 69, 1996: 68, 1995: 76, 1994: 73}\n"
     ]
    }
   ],
   "source": [
    "print(YearCount)"
   ]
  },
  {
   "cell_type": "code",
   "execution_count": 26,
   "metadata": {},
   "outputs": [],
   "source": [
    "arr = np.array(YearCount)"
   ]
  },
  {
   "cell_type": "code",
   "execution_count": 29,
   "metadata": {},
   "outputs": [],
   "source": [
    "print(YearCount, file=open(\"AMJPaperPerYear.txt\", \"a\"))"
   ]
  },
  {
   "cell_type": "markdown",
   "metadata": {},
   "source": [
    "# I have not able to save this results Automaticlly in AMJPaperPerYear.csv\n",
    "## I put this results manually in that csv for the next steps\n",
    "|"
   ]
  },
  {
   "cell_type": "code",
   "execution_count": 52,
   "metadata": {},
   "outputs": [
    {
     "data": {
      "text/html": [
       "<div>\n",
       "<style scoped>\n",
       "    .dataframe tbody tr th:only-of-type {\n",
       "        vertical-align: middle;\n",
       "    }\n",
       "\n",
       "    .dataframe tbody tr th {\n",
       "        vertical-align: top;\n",
       "    }\n",
       "\n",
       "    .dataframe thead th {\n",
       "        text-align: right;\n",
       "    }\n",
       "</style>\n",
       "<table border=\"1\" class=\"dataframe\">\n",
       "  <thead>\n",
       "    <tr style=\"text-align: right;\">\n",
       "      <th></th>\n",
       "      <th>Year</th>\n",
       "      <th>Number of Publication</th>\n",
       "    </tr>\n",
       "  </thead>\n",
       "  <tbody>\n",
       "    <tr>\n",
       "      <th>0</th>\n",
       "      <td>1958</td>\n",
       "      <td>67</td>\n",
       "    </tr>\n",
       "    <tr>\n",
       "      <th>1</th>\n",
       "      <td>1961</td>\n",
       "      <td>47</td>\n",
       "    </tr>\n",
       "    <tr>\n",
       "      <th>2</th>\n",
       "      <td>1962</td>\n",
       "      <td>46</td>\n",
       "    </tr>\n",
       "    <tr>\n",
       "      <th>3</th>\n",
       "      <td>1963</td>\n",
       "      <td>39</td>\n",
       "    </tr>\n",
       "    <tr>\n",
       "      <th>4</th>\n",
       "      <td>1964</td>\n",
       "      <td>40</td>\n",
       "    </tr>\n",
       "  </tbody>\n",
       "</table>\n",
       "</div>"
      ],
      "text/plain": [
       "   Year  Number of Publication\n",
       "0  1958                     67\n",
       "1  1961                     47\n",
       "2  1962                     46\n",
       "3  1963                     39\n",
       "4  1964                     40"
      ]
     },
     "execution_count": 52,
     "metadata": {},
     "output_type": "execute_result"
    }
   ],
   "source": [
    "data = pd.read_csv('AMJPaperPerYear.csv')\n",
    "\n",
    "data.head()"
   ]
  },
  {
   "cell_type": "code",
   "execution_count": 72,
   "metadata": {},
   "outputs": [
    {
     "data": {
      "text/plain": [
       "Text(0, 0.5, 'Number of Publication Per Year')"
      ]
     },
     "execution_count": 72,
     "metadata": {},
     "output_type": "execute_result"
    },
    {
     "data": {
      "image/png": "[encoded data removed]",
      "text/plain": [
       "<Figure size 792x576 with 1 Axes>"
      ]
     },
     "metadata": {
      "needs_background": "light"
     },
     "output_type": "display_data"
    }
   ],
   "source": [
    "plt.figure(figsize=(11,8))\n",
    "plt.title('Number of Publications Per Year SMJ vs AMJ', fontsize= '14')\n",
    "plt.plot(df['Year'], df['Total Publications'], color='red', marker='o')\n",
    "plt.plot(data['Year'], data['Number of Publication'], color='green', marker= '*')\n",
    "plt.legend(['SMJ Publiction Per Year', 'AMJ Publiction Per Year'], loc='upper left')\n",
    "plt.grid()\n",
    "plt.xlabel(\"Year\", fontsize='14')\n",
    "plt.ylabel(\"Number of Publication Per Year\", fontsize='14')"
   ]
  },
  {
   "cell_type": "code",
   "execution_count": null,
   "metadata": {},
   "outputs": [],
   "source": []
  }
 ],
 "metadata": {
  "kernelspec": {
   "display_name": "Python 3",
   "language": "python",
   "name": "python3"
  },
  "language_info": {
   "codemirror_mode": {
    "name": "ipython",
    "version": 3
   },
   "file_extension": ".py",
   "mimetype": "text/x-python",
   "name": "python",
   "nbconvert_exporter": "python",
   "pygments_lexer": "ipython3",
   "version": "3.7.0"
  }
 },
 "nbformat": 4,
 "nbformat_minor": 2
}
