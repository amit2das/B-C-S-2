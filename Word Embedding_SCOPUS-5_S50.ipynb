{
 "cells": [
  {
   "cell_type": "code",
   "execution_count": 1,
   "metadata": {},
   "outputs": [],
   "source": [
    "import os\n",
    "import sys\n",
    "import re\n",
    "import pandas as pd\n",
    "\n",
    "import nltk"
   ]
  },
  {
   "cell_type": "code",
   "execution_count": 2,
   "metadata": {},
   "outputs": [
    {
     "data": {
      "text/plain": [
       "'D:\\\\BCS2'"
      ]
     },
     "execution_count": 2,
     "metadata": {},
     "output_type": "execute_result"
    }
   ],
   "source": [
    "os.chdir('D:\\BCS2')\n",
    "os.getcwd()"
   ]
  },
  {
   "cell_type": "code",
   "execution_count": 3,
   "metadata": {},
   "outputs": [],
   "source": [
    "df = pd.read_csv(\"scopus-5.csv\")"
   ]
  },
  {
   "cell_type": "code",
   "execution_count": 4,
   "metadata": {},
   "outputs": [
    {
     "data": {
      "text/html": [
       "<div>\n",
       "<style scoped>\n",
       "    .dataframe tbody tr th:only-of-type {\n",
       "        vertical-align: middle;\n",
       "    }\n",
       "\n",
       "    .dataframe tbody tr th {\n",
       "        vertical-align: top;\n",
       "    }\n",
       "\n",
       "    .dataframe thead th {\n",
       "        text-align: right;\n",
       "    }\n",
       "</style>\n",
       "<table border=\"1\" class=\"dataframe\">\n",
       "  <thead>\n",
       "    <tr style=\"text-align: right;\">\n",
       "      <th></th>\n",
       "      <th>Authors</th>\n",
       "      <th>Author(s) ID</th>\n",
       "      <th>Title</th>\n",
       "      <th>Year</th>\n",
       "      <th>Source title</th>\n",
       "      <th>Volume</th>\n",
       "      <th>Issue</th>\n",
       "      <th>Art. No.</th>\n",
       "      <th>Page start</th>\n",
       "      <th>Page end</th>\n",
       "      <th>...</th>\n",
       "      <th>ISBN</th>\n",
       "      <th>CODEN</th>\n",
       "      <th>PubMed ID</th>\n",
       "      <th>Language of Original Document</th>\n",
       "      <th>Abbreviated Source Title</th>\n",
       "      <th>Document Type</th>\n",
       "      <th>Publication Stage</th>\n",
       "      <th>Open Access</th>\n",
       "      <th>Source</th>\n",
       "      <th>EID</th>\n",
       "    </tr>\n",
       "  </thead>\n",
       "  <tbody>\n",
       "    <tr>\n",
       "      <th>0</th>\n",
       "      <td>Ebrahimi J., Straszak D., Vishnoi N.</td>\n",
       "      <td>57055968300;56024666500;13607606100;</td>\n",
       "      <td>Subdeterminant maximization via nonconvex rela...</td>\n",
       "      <td>2020</td>\n",
       "      <td>SIAM Journal on Computing</td>\n",
       "      <td>49</td>\n",
       "      <td>6</td>\n",
       "      <td>NaN</td>\n",
       "      <td>1249.0</td>\n",
       "      <td>1270.0</td>\n",
       "      <td>...</td>\n",
       "      <td>NaN</td>\n",
       "      <td>SMJCA</td>\n",
       "      <td>NaN</td>\n",
       "      <td>English</td>\n",
       "      <td>SIAM J Comput</td>\n",
       "      <td>Article</td>\n",
       "      <td>Final</td>\n",
       "      <td>All Open Access, Green</td>\n",
       "      <td>Scopus</td>\n",
       "      <td>2-s2.0-85099279991</td>\n",
       "    </tr>\n",
       "    <tr>\n",
       "      <th>1</th>\n",
       "      <td>Xu M., Li Z., Ma K., Chen G., Cheng H., Meng Z.</td>\n",
       "      <td>55890566100;57188723203;57221951611;5722115149...</td>\n",
       "      <td>Real-time evaluation of error for electronic v...</td>\n",
       "      <td>2020</td>\n",
       "      <td>ITAIC 2020 - IEEE 9th Joint International Info...</td>\n",
       "      <td>NaN</td>\n",
       "      <td>NaN</td>\n",
       "      <td>9338856</td>\n",
       "      <td>2110.0</td>\n",
       "      <td>2118.0</td>\n",
       "      <td>...</td>\n",
       "      <td>9.781728e+12</td>\n",
       "      <td>NaN</td>\n",
       "      <td>NaN</td>\n",
       "      <td>English</td>\n",
       "      <td>ITAIC - IEEE Jt. Int. Inf. Technol. Artif. Int...</td>\n",
       "      <td>Conference Paper</td>\n",
       "      <td>Final</td>\n",
       "      <td>NaN</td>\n",
       "      <td>Scopus</td>\n",
       "      <td>2-s2.0-85101447600</td>\n",
       "    </tr>\n",
       "    <tr>\n",
       "      <th>2</th>\n",
       "      <td>Khairunnisa S., Suyanto S., Eko Yunanto P.</td>\n",
       "      <td>57221748565;56843751100;57221749860;</td>\n",
       "      <td>Removing Noise, Reducing dimension, and Weight...</td>\n",
       "      <td>2020</td>\n",
       "      <td>2020 3rd International Seminar on Research of ...</td>\n",
       "      <td>NaN</td>\n",
       "      <td>NaN</td>\n",
       "      <td>9315515</td>\n",
       "      <td>471.0</td>\n",
       "      <td>475.0</td>\n",
       "      <td>...</td>\n",
       "      <td>9.781728e+12</td>\n",
       "      <td>NaN</td>\n",
       "      <td>NaN</td>\n",
       "      <td>English</td>\n",
       "      <td>Int. Semin. Res. Inf. Technol. Intell. Syst., ...</td>\n",
       "      <td>Conference Paper</td>\n",
       "      <td>Final</td>\n",
       "      <td>NaN</td>\n",
       "      <td>Scopus</td>\n",
       "      <td>2-s2.0-85100057479</td>\n",
       "    </tr>\n",
       "    <tr>\n",
       "      <th>3</th>\n",
       "      <td>Watanabe T., Kameda H.</td>\n",
       "      <td>57221850245;37161550400;</td>\n",
       "      <td>Proposal of a computer-reproducible model of c...</td>\n",
       "      <td>2020</td>\n",
       "      <td>2020 Joint 11th International Conference on So...</td>\n",
       "      <td>NaN</td>\n",
       "      <td>NaN</td>\n",
       "      <td>9322763</td>\n",
       "      <td>NaN</td>\n",
       "      <td>NaN</td>\n",
       "      <td>...</td>\n",
       "      <td>9.781728e+12</td>\n",
       "      <td>NaN</td>\n",
       "      <td>NaN</td>\n",
       "      <td>English</td>\n",
       "      <td>Jt. Int. Conf. Soft Comput. Intell. Syst. Int....</td>\n",
       "      <td>Conference Paper</td>\n",
       "      <td>Final</td>\n",
       "      <td>NaN</td>\n",
       "      <td>Scopus</td>\n",
       "      <td>2-s2.0-85100377236</td>\n",
       "    </tr>\n",
       "    <tr>\n",
       "      <th>4</th>\n",
       "      <td>Bharambe U., Narvekar C., Shinde S.</td>\n",
       "      <td>34879477300;57221966825;57222002545;</td>\n",
       "      <td>Fairness assessment of question paper using ar...</td>\n",
       "      <td>2020</td>\n",
       "      <td>2020 IEEE Bombay Section Signature Conference,...</td>\n",
       "      <td>NaN</td>\n",
       "      <td>NaN</td>\n",
       "      <td>9332222</td>\n",
       "      <td>152.0</td>\n",
       "      <td>157.0</td>\n",
       "      <td>...</td>\n",
       "      <td>9.781728e+12</td>\n",
       "      <td>NaN</td>\n",
       "      <td>NaN</td>\n",
       "      <td>English</td>\n",
       "      <td>IEEE Bombay Sect. Signat. Conf., IBSSC</td>\n",
       "      <td>Conference Paper</td>\n",
       "      <td>Final</td>\n",
       "      <td>NaN</td>\n",
       "      <td>Scopus</td>\n",
       "      <td>2-s2.0-85100927480</td>\n",
       "    </tr>\n",
       "  </tbody>\n",
       "</table>\n",
       "<p>5 rows × 46 columns</p>\n",
       "</div>"
      ],
      "text/plain": [
       "                                           Authors  \\\n",
       "0             Ebrahimi J., Straszak D., Vishnoi N.   \n",
       "1  Xu M., Li Z., Ma K., Chen G., Cheng H., Meng Z.   \n",
       "2       Khairunnisa S., Suyanto S., Eko Yunanto P.   \n",
       "3                           Watanabe T., Kameda H.   \n",
       "4              Bharambe U., Narvekar C., Shinde S.   \n",
       "\n",
       "                                        Author(s) ID  \\\n",
       "0               57055968300;56024666500;13607606100;   \n",
       "1  55890566100;57188723203;57221951611;5722115149...   \n",
       "2               57221748565;56843751100;57221749860;   \n",
       "3                           57221850245;37161550400;   \n",
       "4               34879477300;57221966825;57222002545;   \n",
       "\n",
       "                                               Title  Year  \\\n",
       "0  Subdeterminant maximization via nonconvex rela...  2020   \n",
       "1  Real-time evaluation of error for electronic v...  2020   \n",
       "2  Removing Noise, Reducing dimension, and Weight...  2020   \n",
       "3  Proposal of a computer-reproducible model of c...  2020   \n",
       "4  Fairness assessment of question paper using ar...  2020   \n",
       "\n",
       "                                        Source title Volume Issue  Art. No.  \\\n",
       "0                          SIAM Journal on Computing     49     6       NaN   \n",
       "1  ITAIC 2020 - IEEE 9th Joint International Info...    NaN   NaN   9338856   \n",
       "2  2020 3rd International Seminar on Research of ...    NaN   NaN   9315515   \n",
       "3  2020 Joint 11th International Conference on So...    NaN   NaN   9322763   \n",
       "4  2020 IEEE Bombay Section Signature Conference,...    NaN   NaN   9332222   \n",
       "\n",
       "   Page start  Page end         ...                  ISBN  CODEN PubMed ID  \\\n",
       "0      1249.0    1270.0         ...                   NaN  SMJCA       NaN   \n",
       "1      2110.0    2118.0         ...          9.781728e+12    NaN       NaN   \n",
       "2       471.0     475.0         ...          9.781728e+12    NaN       NaN   \n",
       "3         NaN       NaN         ...          9.781728e+12    NaN       NaN   \n",
       "4       152.0     157.0         ...          9.781728e+12    NaN       NaN   \n",
       "\n",
       "  Language of Original Document  \\\n",
       "0                       English   \n",
       "1                       English   \n",
       "2                       English   \n",
       "3                       English   \n",
       "4                       English   \n",
       "\n",
       "                            Abbreviated Source Title     Document Type  \\\n",
       "0                                      SIAM J Comput           Article   \n",
       "1  ITAIC - IEEE Jt. Int. Inf. Technol. Artif. Int...  Conference Paper   \n",
       "2  Int. Semin. Res. Inf. Technol. Intell. Syst., ...  Conference Paper   \n",
       "3  Jt. Int. Conf. Soft Comput. Intell. Syst. Int....  Conference Paper   \n",
       "4             IEEE Bombay Sect. Signat. Conf., IBSSC  Conference Paper   \n",
       "\n",
       "  Publication Stage             Open Access  Source                 EID  \n",
       "0             Final  All Open Access, Green  Scopus  2-s2.0-85099279991  \n",
       "1             Final                     NaN  Scopus  2-s2.0-85101447600  \n",
       "2             Final                     NaN  Scopus  2-s2.0-85100057479  \n",
       "3             Final                     NaN  Scopus  2-s2.0-85100377236  \n",
       "4             Final                     NaN  Scopus  2-s2.0-85100927480  \n",
       "\n",
       "[5 rows x 46 columns]"
      ]
     },
     "execution_count": 4,
     "metadata": {},
     "output_type": "execute_result"
    }
   ],
   "source": [
    "df.head()"
   ]
  },
  {
   "cell_type": "code",
   "execution_count": 5,
   "metadata": {},
   "outputs": [],
   "source": [
    "df['Abstract'] = df['Abstract'].str.replace('[^a-zA-Z]',' ').str.lower()"
   ]
  },
  {
   "cell_type": "code",
   "execution_count": 7,
   "metadata": {},
   "outputs": [
    {
     "data": {
      "text/plain": [
       "0    several fundamental problems that arise in opt...\n",
       "1    electronic voltage transformer is an electrici...\n",
       "2    various methods of machine learning have been ...\n",
       "3    in this study  we propose a model of conscious...\n",
       "4    examination performance is the only measure of...\n",
       "Name: Abstract, dtype: object"
      ]
     },
     "execution_count": 7,
     "metadata": {},
     "output_type": "execute_result"
    }
   ],
   "source": [
    "df['Abstract'].head()"
   ]
  },
  {
   "cell_type": "code",
   "execution_count": 8,
   "metadata": {},
   "outputs": [
    {
     "name": "stderr",
     "output_type": "stream",
     "text": [
      "[nltk_data] Downloading package stopwords to\n",
      "[nltk_data]     C:\\Users\\opero\\AppData\\Roaming\\nltk_data...\n",
      "[nltk_data]   Package stopwords is already up-to-date!\n"
     ]
    },
    {
     "data": {
      "text/plain": [
       "True"
      ]
     },
     "execution_count": 8,
     "metadata": {},
     "output_type": "execute_result"
    }
   ],
   "source": [
    "nltk.download('stopwords')\n"
   ]
  },
  {
   "cell_type": "code",
   "execution_count": 9,
   "metadata": {},
   "outputs": [],
   "source": [
    "stop_re = '\\\\b'+'\\\\b|\\\\b'.join(nltk.corpus.stopwords.words('english'))+'\\\\b'"
   ]
  },
  {
   "cell_type": "code",
   "execution_count": 10,
   "metadata": {},
   "outputs": [],
   "source": [
    "df['Abstract'] = df['Abstract'].str.replace(stop_re, '')\n"
   ]
  },
  {
   "cell_type": "code",
   "execution_count": 11,
   "metadata": {},
   "outputs": [
    {
     "data": {
      "text/plain": [
       "0    several fundamental problems  arise  optimizat...\n",
       "1    electronic voltage transformer   electricity p...\n",
       "2    various methods  machine learning   implemente...\n",
       "3      study   propose  model  consciousness    imp...\n",
       "4    examination performance    measure  competence...\n",
       "Name: Abstract, dtype: object"
      ]
     },
     "execution_count": 11,
     "metadata": {},
     "output_type": "execute_result"
    }
   ],
   "source": [
    "df['Abstract'].head()"
   ]
  },
  {
   "cell_type": "code",
   "execution_count": 12,
   "metadata": {},
   "outputs": [],
   "source": [
    "df['Abstract'] = df['Abstract'].str.split()\n"
   ]
  },
  {
   "cell_type": "code",
   "execution_count": 13,
   "metadata": {},
   "outputs": [
    {
     "data": {
      "text/plain": [
       "0    [several, fundamental, problems, arise, optimi...\n",
       "1    [electronic, voltage, transformer, electricity...\n",
       "2    [various, methods, machine, learning, implemen...\n",
       "3    [study, propose, model, consciousness, impleme...\n",
       "4    [examination, performance, measure, competence...\n",
       "Name: Abstract, dtype: object"
      ]
     },
     "execution_count": 13,
     "metadata": {},
     "output_type": "execute_result"
    }
   ],
   "source": [
    "df['Abstract'].head()"
   ]
  },
  {
   "cell_type": "code",
   "execution_count": 14,
   "metadata": {},
   "outputs": [],
   "source": [
    "import gensim\n",
    "phrases = gensim.models.phrases.Phrases(df['Abstract'].tolist())\n",
    "phraser = gensim.models.phrases.Phraser(phrases)\n",
    "train_phrased = phraser[df['Abstract'].tolist()]\n"
   ]
  },
  {
   "cell_type": "code",
   "execution_count": 15,
   "metadata": {},
   "outputs": [
    {
     "data": {
      "text/plain": [
       "12"
      ]
     },
     "execution_count": 15,
     "metadata": {},
     "output_type": "execute_result"
    }
   ],
   "source": [
    "import multiprocessing\n",
    "multiprocessing.cpu_count()"
   ]
  },
  {
   "cell_type": "code",
   "execution_count": 16,
   "metadata": {},
   "outputs": [],
   "source": [
    "model = gensim.models.Word2Vec(train_phrased, size=50,\n",
    "        window=5,\n",
    "        min_count=20,\n",
    "        workers=8,\n",
    "        iter=50)"
   ]
  },
  {
   "cell_type": "code",
   "execution_count": 17,
   "metadata": {},
   "outputs": [
    {
     "data": {
      "text/plain": [
       "[('ethical_principles', 0.6177738904953003),\n",
       " ('around', 0.6070788502693176),\n",
       " ('conceptual', 0.5835568308830261),\n",
       " ('currently', 0.5516607165336609),\n",
       " ('perspectives', 0.5445740818977356),\n",
       " ('ethical_issues', 0.5408313274383545),\n",
       " ('ai_ethics', 0.5356566309928894),\n",
       " ('contribution', 0.5262420177459717),\n",
       " ('machine', 0.5136253833770752),\n",
       " ('responsibility', 0.5082464218139648)]"
      ]
     },
     "execution_count": 17,
     "metadata": {},
     "output_type": "execute_result"
    }
   ],
   "source": [
    "model.wv.most_similar('ethics')"
   ]
  },
  {
   "cell_type": "code",
   "execution_count": 18,
   "metadata": {},
   "outputs": [
    {
     "data": {
      "text/plain": [
       "[('trade', 0.6786262392997742),\n",
       " ('properties', 0.593802809715271),\n",
       " ('measures', 0.5844547748565674),\n",
       " ('robustness', 0.5570356845855713),\n",
       " ('discrimination', 0.5485032200813293),\n",
       " ('model', 0.5386044383049011),\n",
       " ('efficiency', 0.5342432856559753),\n",
       " ('settings', 0.5339043140411377),\n",
       " ('evaluating', 0.5256009697914124),\n",
       " ('metric', 0.517494261264801)]"
      ]
     },
     "execution_count": 18,
     "metadata": {},
     "output_type": "execute_result"
    }
   ],
   "source": [
    "model.wv.most_similar('fairness')"
   ]
  },
  {
   "cell_type": "code",
   "execution_count": null,
   "metadata": {},
   "outputs": [],
   "source": []
  }
 ],
 "metadata": {
  "kernelspec": {
   "display_name": "Python 3",
   "language": "python",
   "name": "python3"
  },
  "language_info": {
   "codemirror_mode": {
    "name": "ipython",
    "version": 3
   },
   "file_extension": ".py",
   "mimetype": "text/x-python",
   "name": "python",
   "nbconvert_exporter": "python",
   "pygments_lexer": "ipython3",
   "version": "3.7.0"
  }
 },
 "nbformat": 4,
 "nbformat_minor": 2
}
